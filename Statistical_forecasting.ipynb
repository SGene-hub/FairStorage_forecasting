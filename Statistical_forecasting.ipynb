{
 "cells": [
  {
   "cell_type": "markdown",
   "metadata": {},
   "source": [
    "# Time Series Forecast"
   ]
  },
  {
   "cell_type": "markdown",
   "metadata": {},
   "source": [
    "# Functions"
   ]
  },
  {
   "cell_type": "markdown",
   "metadata": {},
   "source": [
    "First, we define a set of functions that will be called later in the modelling and clustering stage. This will render our notebook much neater. Each functions is explanined in its defintion. \n"
   ]
  },
  {
   "cell_type": "code",
   "execution_count": null,
   "metadata": {},
   "outputs": [],
   "source": [
    "#!pip install statsmodels\n",
    "#!pip install tbats\n",
    "#!pip install pmdarima\n",
    "#!pip install fastdtw"
   ]
  },
  {
   "cell_type": "code",
   "execution_count": 9,
   "metadata": {},
   "outputs": [],
   "source": [
    "#basic libraries\n",
    "import pandas as pd\n",
    "import numpy as np\n",
    "import warnings\n",
    "import time\n",
    "warnings.filterwarnings(\"ignore\")\n",
    "\n",
    "#models\n",
    "import statsmodels as sm\n",
    "from statsmodels.tsa.statespace.sarimax import SARIMAX\n",
    "from scipy.spatial.distance import euclidean\n",
    "from sklearn.model_selection import TimeSeriesSplit\n",
    "from statsmodels.tsa.exponential_smoothing.ets import ETSModel\n",
    "from statsmodels.tsa.arima_model import ARIMA\n",
    "import pmdarima as pm\n",
    "\n",
    "#metrics\n",
    "from math import sqrt\n",
    "from sklearn.metrics import mean_squared_error\n",
    "from sklearn.metrics import mean_absolute_error\n",
    "\n"
   ]
  },
  {
   "cell_type": "code",
   "execution_count": 41,
   "metadata": {},
   "outputs": [],
   "source": [
    "#%% Transform data\n",
    "def read_data ():\n",
    "    \"\"\" \n",
    "    read train.csv as per normal.\n",
    "    read calendar, drop redundant columns and format its 'date' column to be time stamps\n",
    "    \"\"\" \n",
    "    df = pd.read_csv(\"/kaggle/input/ysc4224-final-project/train.csv\")\n",
    "    full_calendar = pd.read_csv(\"/kaggle/input/ysc4224-final-project/calendar.csv\")\n",
    "    calendar = full_calendar[:1919]\n",
    "    calendar = calendar.drop(calendar.columns[np.r_[1,3:6]], axis = 1)\n",
    "    format = '%Y-%m-%d'\n",
    "    calendar['date'] = pd.to_datetime(calendar.date, format=format)\n",
    "    return df, calendar , full_calendar\n",
    "\n",
    "def transform_data (df,calendar):\n",
    "    \"\"\" \n",
    "    df is the original training set. \n",
    "    calendar should be already trimmed and with index in datetime format.\n",
    "    df will be transformed into vertical series with columns being product id and index timestamp\n",
    "    \"\"\"\n",
    "    dft = df.T \n",
    "    dft.drop(index = ['item_id', 'subcat_id', 'category_id', 'store_id', 'region_id'],inplace = True)\n",
    "    header = dft.iloc[0]\n",
    "    dft = dft[1:]\n",
    "    dft.columns = header \n",
    "    dft.reset_index( drop=True, inplace=True)\n",
    "    calendar.reset_index(drop=True, inplace=True)\n",
    "    dft = pd.concat([dft, calendar.date], axis = 1, ignore_index= False)\n",
    "    dft.set_index('date', inplace = True)\n",
    "    dft = dft.astype(\"float\")\n",
    "    return dft\n",
    "\n",
    "#%%Aggregate by categories\n",
    "def agg_and_date (df, calendar, cat, method):\n",
    "    \"\"\" \n",
    "    aggregate by certain categories (eg. store, subcat)\n",
    "    method can be \"sum\" or \"mean\"\n",
    "    \"\"\"\n",
    "    if method == \"sum\":\n",
    "        #aggregate sales by cat. take the sum\n",
    "        subdf = df.groupby(by=cat).sum().transpose()\n",
    "    elif method == \"mean\":\n",
    "        #take the mean\n",
    "        subdf = df.groupby(by=cat).mean().transpose()\n",
    "    else:\n",
    "        raise Exception()\n",
    "    #concatenate calendar information with subdf\n",
    "    subdf.reset_index( drop=True, inplace=True)\n",
    "    calendar.reset_index( drop=True, inplace=True)\n",
    "    subdf = pd.concat([subdf, calendar.date], axis = 1, ignore_index= False)\n",
    "    subdf.set_index('date', inplace = True)\n",
    "    return subdf\n",
    "\n",
    "\n",
    "#%% Clustering\n",
    "\n",
    "def natural_cluster_centroids(cluster_df):\n",
    "    \"\"\"\n",
    "    if clustering by stores, df = store (aggregated)\n",
    "    return: dictionary\n",
    "    \"\"\"\n",
    "    centroids = {}\n",
    "    for c in cluster_df.columns:\n",
    "        centroids[c] = cluster_df[c]\n",
    "    return centroids\n",
    "\n",
    "def map_product_to_store (df):\n",
    "    \"\"\"     \n",
    "    returns a dictionary where keys are product id and values are store id.\n",
    "    helps to retrieve the product's store \n",
    "    \"\"\"\n",
    "    which_store =  pd.Series(df.store_id.values,index=df.id).to_dict()\n",
    "    return which_store\n",
    "\n",
    "def map_product_to_store_subcat (df):\n",
    "    \"\"\"     \n",
    "    returns a dictionary where keys are product id and values are store id.\n",
    "    helps to retrieve the product's store \n",
    "    \"\"\"\n",
    "    mapping =  pd.Series(df.store_subcat.values,index=df.id).to_dict()\n",
    "    return mapping\n",
    "\n",
    "\n",
    "def calculate_distance_last_week (cluster_df, dft, centroids, mapping):\n",
    "    \"\"\" \n",
    "    cat: natural clusters (eg. store)\n",
    "    mapping: dictionary that maps product to its natural cluster\n",
    "    assume the distance each product to the average of the store is its sales divided by average sales of the previous week \n",
    "    \"\"\"\n",
    "    distances = {}\n",
    "    for c in cluster_df.columns:\n",
    "        distances[c] = {}\n",
    "\n",
    "    for product in dft.columns:\n",
    "        c = mapping[product]\n",
    "        averages = centroids[c]\n",
    "        cat_last_week_average = averages[(averages.index < \"2016-04-30\") & (averages.index >= \"2016-04-21\")].mean()\n",
    "        product_sales = dft[product]\n",
    "        product_last_week_average = product_sales[(product_sales.index < \"2016-04-30\") & (product_sales.index >= \"2016-04-21\")].mean()\n",
    "        distances[c][product] = product_last_week_average/cat_last_week_average\n",
    "    return distances\n",
    "\n",
    "def calculate_distance_weighted (cluster_df, dft, centroids, mapping):\n",
    "    \"\"\" \n",
    "    the last week's average get 0.8 weight and second last week's get 0.2 weight\n",
    "    \"\"\"\n",
    "    distances = {}\n",
    "    for c in cluster_df.columns:\n",
    "        distances[c] = {}\n",
    "    for product in dft.columns:\n",
    "        c = mapping[product]\n",
    "        averages = centroids[c]\n",
    "        cat_last_week_average = averages[(averages.index < \"2016-04-30\") & (averages.index >= \"2016-04-24\")].mean()\n",
    "        cat_last_last_average = averages[(averages.index < \"2016-04-23\") & (averages.index >= \"2016-04-17\")].mean()\n",
    "        product_sales = dft[product]\n",
    "        product_last_week_average = product_sales[(product_sales.index < \"2016-04-30\") & (product_sales.index >= \"2016-04-24\")].mean()\n",
    "        product_last_last_average = product_sales[(product_sales.index < \"2016-04-23\") & (product_sales.index >= \"2016-04-17\")].mean()\n",
    "        last_week = product_last_week_average/cat_last_week_average\n",
    "        last_last = product_last_last_average/cat_last_last_average\n",
    "        distances[c][product] = last_week * 0.8 + last_last *0.2\n",
    "    return distances\n",
    "\n",
    "\n",
    "#%% Build model\n",
    "\n",
    "def build_ets_model (data):\n",
    "    \"\"\" additive ETS model \"\"\"\n",
    "    model = ETSModel(\n",
    "            data,\n",
    "            error=\"add\",\n",
    "            trend=\"add\",\n",
    "            seasonal=\"add\",\n",
    "            damped_trend=True,\n",
    "            seasonal_periods=7)\n",
    "    return model\n",
    "\n",
    "def build_sARIMA_model (data):\n",
    "    #build autoarima model\n",
    "    model = pm.auto_arima(data, \n",
    "        start_p=0, start_q=0, start_d=0, \n",
    "        max_p=2, max_q=2,     \n",
    "        max_d=2, d=None,      \n",
    "        seasonal=True,       \n",
    "        m=7,                 \n",
    "        start_P=0, start_Q=1, \n",
    "        max_P=0, max_Q=1,     \n",
    "        D=1,                  \n",
    "        test='adf',          \n",
    "        information_criterion='aic', \n",
    "        trace=True,         \n",
    "        error_action='ignore',   \n",
    "        suppress_warnings=True, \n",
    "        stepwise=True\n",
    "        )\n",
    "    return model\n",
    "\n",
    "def build_sARIMA_model_params (data,name,param_dict):\n",
    "    #arima model with known parameters\n",
    "    params = param_dict[name]\n",
    "    model = SARIMAX(data, order=params['order'], seasonal_order=params['seasonal_order'])\n",
    "    return model\n",
    "\n",
    "#%% prediction\n",
    "\n",
    "def model_predict_ets (model, start = \"2016-05-01\", end = \"2016-05-21\"):\n",
    "    \"\"\" \n",
    "    make future prediction for one series of data \n",
    "    \"\"\"\n",
    "    fit = model.fit()\n",
    "    pred = fit.get_prediction(start=start, end=end)\n",
    "    predictions = pred.summary_frame(alpha=0.05)\n",
    "    return predictions[\"mean\"]\n",
    "\n",
    "def predict_centroids_ets (cluster_df,centroids, model_func):\n",
    "    \"\"\" \n",
    "    make predictions for centroids\n",
    "    centroids are in series format \n",
    "\n",
    "    if centroids are store averages, df = store (aggregated)\n",
    "    \"\"\"\n",
    "    centroid_predictions = {} \n",
    "    for i in range(len(centroids)):\n",
    "        name = cluster_df.columns[i]\n",
    "        centroid = centroids[name]\n",
    "        model = model_func (centroid)\n",
    "        centroid_predictions[name] = model_predict_ets(model)\n",
    "\n",
    "    return centroid_predictions\n",
    "\n",
    "\n",
    "def model_predict_arima (model, cluster_df, start = \"2016-05-01\", end = \"2016-05-21\"):\n",
    "    \"\"\" \n",
    "    make future prediction for one series of data \n",
    "    \"\"\"\n",
    "    fit = model.fit(cluster_df)\n",
    "    pred = fit.predict(21)\n",
    "    print(\"predicted \",str(len(pred)), \" days\")\n",
    "    return pred\n",
    "\n",
    "def predict_centroids_arima (cluster_df,centroids, model_func):\n",
    "    \"\"\" \n",
    "    make predictions for centroids\n",
    "    centroids are in series format \n",
    "\n",
    "    if centroids are store averages, df = store (aggregated)\n",
    "    \"\"\"\n",
    "    centroid_predictions = {} \n",
    "    for i in range(len(centroids)):\n",
    "        name = cluster_df.columns[i]\n",
    "        centroid = centroids[name]\n",
    "        model = model_func (centroid)\n",
    "        centroid_predictions[name] = model_predict_arima(model, centroid)\n",
    "        print(\"finished prediction for \",name,\"\\n\")\n",
    "    return centroid_predictions\n",
    "\n",
    "def model_predict_arima_params (model, start = \"2016-05-01\", end = \"2016-05-21\"):\n",
    "    \"\"\" \n",
    "    make future prediction for one series of data \n",
    "    \"\"\"\n",
    "    fit = model.fit()\n",
    "    pred = fit.get_prediction(start=start, end=end)\n",
    "    predictions = pred.summary_frame(alpha=0.05)\n",
    "    print(\"predicted \",str(len(predictions)), \" days\")\n",
    "    return predictions[\"mean\"]\n",
    "\n",
    "def predict_centroids_arima_params (cluster_df,centroids, model_func, param_dict):\n",
    "    centroid_predictions = {} \n",
    "    for i in range(len(centroids)):\n",
    "        name = cluster_df.columns[i]\n",
    "        centroid = centroids[name]\n",
    "        model = model_func (centroid,name,param_dict)\n",
    "        centroid_predictions[name] = model_predict_arima_params(model)\n",
    "        print(\"finished prediction for \",name,\"\\n\")\n",
    "    return centroid_predictions\n",
    "\n",
    "def predict_for_all (dft, centroid_predictions, distances, which_store):\n",
    "    \"\"\"\n",
    "    with predictions of the centroid, calculates the predictions by multiplying the \n",
    "    centroid with a distance index\n",
    "    \"\"\"\n",
    "    predictions = {}\n",
    "    for product in dft.columns:\n",
    "        store = which_store[product]\n",
    "        centroid_prediction = centroid_predictions[store]\n",
    "        product_prediction = centroid_prediction * (distances[store][product])\n",
    "        predictions[product] = product_prediction\n",
    "    return predictions\n",
    "\n",
    "#%% Evaluation \n",
    "\n",
    "def evaluate_model_ets (df, model_func):\n",
    "    \"\"\" \n",
    "    Split the data into 12 parts, use the sliding window method to \n",
    "    cross validate. Test set size is always 21. \n",
    "    Compute the rmse for the predictions of each product/cluster (21 predictions).\n",
    "    The final score is the average of the list of rmse\n",
    "    \"\"\"\n",
    "    t1 = time.time()\n",
    "    rmse = []\n",
    "    mae = []\n",
    "    rmse_averages = []\n",
    "    mae_averages = []\n",
    "    tscv = TimeSeriesSplit(n_splits=12, test_size=21)\n",
    "    for c in df.columns:\n",
    "        ts_data_load = df[c]\n",
    "        for train_index, test_index in tscv.split(ts_data_load):\n",
    "            train, test = ts_data_load.iloc[train_index], ts_data_load.iloc[test_index] \n",
    "            model = model_func(train)\n",
    "            fit = model.fit()\n",
    "            pred = fit.get_prediction(test.index.values[0], test.index.values[-1])\n",
    "            predictions = pred.summary_frame(alpha=0.05)\n",
    "            predicted_values = predictions[\"mean\"]\n",
    "            true_values = test.values\n",
    "            rmse.append(sqrt(mean_squared_error(true_values, predicted_values)))\n",
    "            mae.append(mean_absolute_error(true_values, predicted_values))\n",
    "    rmse_averages.append(np.mean(rmse))\n",
    "    mae_averages.append(np.mean(mae))\n",
    "    t2 = time.time()\n",
    "    result = (np.mean(rmse_averages) , np.mean(mae_averages))\n",
    "    print(\"centroid prediction rmse: \", str(round(result[0],2)))\n",
    "    print(\"centroid prediction mae: \",str(round(result[1],2)))\n",
    "    print(\"time taken: \", str(round(t2-t1,2)))\n",
    "\n",
    "    return result\n",
    "\n",
    "def evaluate_model_arima (df, model_func, param_dict):\n",
    "    \"\"\" \n",
    "    Split the data into 12 parts, use the sliding window method to \n",
    "    cross validate. Test set size is always 21. \n",
    "    Compute the rmse for the predictions of each product/cluster (21 predictions).\n",
    "    The final score is the average of the list of rmse\n",
    "    \"\"\"\n",
    "    t1 = time.time()\n",
    "    rmse = []\n",
    "    mae = []\n",
    "    rmse_averages = []\n",
    "    mae_averages = []\n",
    "    tscv = TimeSeriesSplit(n_splits= 3, test_size=21)\n",
    "    for c in df.columns:\n",
    "        ts_data_load = df[c]\n",
    "        for train_index, test_index in tscv.split(ts_data_load):\n",
    "            train, test = ts_data_load.iloc[train_index], ts_data_load.iloc[test_index] \n",
    "            model = model_func(train,c,SARIMA_params)\n",
    "            fit = model.fit()\n",
    "            pred = fit.get_prediction(test.index.values[0], test.index.values[-1])\n",
    "            predictions = pred.summary_frame(alpha=0.05)\n",
    "            predicted_values = predictions[\"mean\"]\n",
    "            true_values = test.values\n",
    "            rmse.append(sqrt(mean_squared_error(true_values, predicted_values)))\n",
    "            mae.append(mean_absolute_error(true_values, predicted_values))\n",
    "    rmse_averages.append(np.mean(rmse))\n",
    "    mae_averages.append(np.mean(mae))\n",
    "    t2 = time.time()\n",
    "    result = (np.mean(rmse_averages) , np.mean(mae_averages))\n",
    "    print(\"centroid prediction rmse: \", str(round(result[0],2)))\n",
    "    print(\"centroid prediction mae: \",str(round(result[1],2)))\n",
    "    print(\"time taken: \", str(round(t2-t1,2)))\n",
    "\n",
    "    return result\n",
    "\n",
    "def evaluate_simple_ets (dft,cluster_df, centroids, distances, mapping, model_func):\n",
    "    \"\"\" \n",
    "    compare the prediction of 2016 april to actual data \n",
    "    return rmse,mae\n",
    "    \"\"\"\n",
    "    t1 = time.time()\n",
    "    centroid_predictions = {} \n",
    "    for name in cluster_df.columns:\n",
    "        centroid = centroids[name]\n",
    "        model = model_func (centroid)\n",
    "        centroid_predictions[name] = model_predict_ets(model, start = '2016-04-01', end = '2016-04-30')\n",
    "    product_predictions  = predict_for_all (dft, centroid_predictions, distances, mapping)\n",
    "    true_df = dft.loc['2016-04-01':'2016-04-30']\n",
    "    rmse = []\n",
    "    mae = []\n",
    "    for product in true_df.columns:\n",
    "        predicted_values = product_predictions[product].values\n",
    "        true_values = true_df[product].values\n",
    "        rmse.append(sqrt(mean_squared_error(true_values, predicted_values)))\n",
    "        mae.append(mean_squared_error(true_values, predicted_values))\n",
    "    result = (np.mean(rmse),np.mean(mae))\n",
    "    t2 = time.time()\n",
    "    print(\"product prediction rmse: \", str(round(result[0],2)))\n",
    "    print(\"product prediction mae: \", str(round(result[1],2)))\n",
    "    print(\"time taken: \", str(round(t2-t1,2)))\n",
    "    return result\n",
    "\n",
    "def evaluate_simple_arima (dft,cluster_df, centroids, distances, mapping, model_func,param_dict):\n",
    "    \"\"\" \n",
    "    compare the prediction of 2016 april to actual data \n",
    "    return rmse,mae\n",
    "    \"\"\"\n",
    "    t1 = time.time()\n",
    "    centroid_predictions = {} \n",
    "    for name in cluster_df.columns:\n",
    "        centroid = centroids[name]\n",
    "        model = model_func (centroid,name, param_dict)\n",
    "        centroid_predictions[name] = model_predict_arima_params(model, start = '2016-04-01', end = '2016-04-30')\n",
    "    product_predictions  = predict_for_all (dft, centroid_predictions, distances, mapping)\n",
    "    true_df = dft.loc['2016-04-01':'2016-04-30']\n",
    "    rmse = []\n",
    "    mae = []\n",
    "    for product in true_df.columns:\n",
    "        predicted_values = product_predictions[product].values\n",
    "        true_values = true_df[product].values\n",
    "        rmse.append(sqrt(mean_squared_error(true_values, predicted_values)))\n",
    "        mae.append(mean_squared_error(true_values, predicted_values))\n",
    "    result = (np.mean(rmse),np.mean(mae))\n",
    "    t2 = time.time()\n",
    "    print(\"product prediction rmse: \", str(round(result[0],2)))\n",
    "    print(\"product prediction mae: \", str(round(result[1],2)))\n",
    "    print(\"time taken: \", str(round(t2-t1,2)))\n",
    "    return result\n",
    "\n",
    "def format_result (predictions,full_calendar,name):\n",
    "    \"\"\" \n",
    "    transform predictions(dictionary) into dataframe ready for submission\n",
    "    \"\"\"\n",
    "    pred_df = pd.DataFrame(predictions)\n",
    "    pred_cal = full_calendar.loc[(full_calendar['date'] >= '2016-05-01') & (full_calendar['date'] <= '2016-05-21'), ]\n",
    "    pred_df.index = pred_cal.d\n",
    "    result = pred_df.T\n",
    "    #format prediction. turn time stamps into d_ \n",
    "    result = result.rename_axis('id').rename_axis(None, axis=\"columns\")\n",
    "    result.to_csv(name)\n",
    "    return result\n",
    "\n"
   ]
  },
  {
   "cell_type": "code",
   "execution_count": 11,
   "metadata": {},
   "outputs": [],
   "source": [
    "df, calendar , full_calendar = read_data()\n",
    "#transpose df and make columns the product id and index the timestamp\n",
    "dft = transform_data (df,calendar)"
   ]
  },
  {
   "cell_type": "markdown",
   "metadata": {},
   "source": [
    "# Natural Clusters\n",
    "\n",
    "Note that we attempted clustering the series via dtw distance. Directly clustering every time series was computationally unfeaisble (in the order of days, with the computational power available). Thus, we had to sample random samples of series from the training dataset, understand the optimal number of centroids form this subsample (was established to be 10), then assign each series to a centroid computing the dtw distance between each series and each centroid. This method was computationally feasible (~ 3 hours total computational time), but yielded poor results. Hence, we decided to use stores as \"natural clusters\", predicting the demand by store, and deaggregating the predicted demand knowing that each product demand is always a proportion of the total sales of the respective store. This approach, while incredibly computationally less expensive, yielded very decent results, once again reminding us that simpler can be quite performing and optimise the use of our resources too."
   ]
  },
  {
   "cell_type": "markdown",
   "metadata": {},
   "source": [
    "## Clustering by Subcategory per store\n",
    " The first approach is more meticolous, dividing the dataset into 70 clusters according to stores and subcategories, then predicting and de-aggregating the prediction accoridngly per product. The results obtained are very decent, especially the MAE. However, the RMSE is higgher than the one obtained with a more approximative clustering by store. \n",
    "### Model ETS (AAA)"
   ]
  },
  {
   "cell_type": "code",
   "execution_count": 13,
   "metadata": {},
   "outputs": [],
   "source": [
    "#group the products by their stores \n",
    "# we get 70 clusters\n",
    "cluster_df = agg_and_date (df, calendar, [\"store_id\",\"subcat_id\"], \"mean\")\n",
    "#format cluster names to string\n",
    "cols = pd.Series(cluster_df.columns)\n",
    "cluster_df.columns = cols.apply(lambda x: \"_\".join(x))\n",
    "#concatenate store and subcat to match cluster names\n",
    "df['store_subcat'] =  \"\"\n",
    "for index,row in df.iterrows():\n",
    "    store = str(row['store_id'])\n",
    "    subcat = str(row['subcat_id'])\n",
    "    name = str(store+\"_\"+subcat)\n",
    "    df.loc[index, 'store_subcat'] = name\n",
    "#get the centroid of store-subcat aka. time series of its average sales per product\n",
    "centroids = natural_cluster_centroids(cluster_df)\n",
    "#predict the average sales of store-subcat\n",
    "centroid_predictions = predict_centroids_ets (cluster_df,centroids,build_ets_model)\n",
    "#calculate the distances from product to cluster average\n",
    "mapping = map_product_to_store_subcat (df)\n",
    "distances = calculate_distance_weighted (cluster_df, dft, centroids, mapping)\n",
    "#calculate the predictions for all products within the cluster \n",
    "predictions = predict_for_all (dft, centroid_predictions, distances, mapping)"
   ]
  },
  {
   "cell_type": "code",
   "execution_count": 17,
   "metadata": {},
   "outputs": [
    {
     "name": "stdout",
     "output_type": "stream",
     "text": [
      "product prediction rmse:  1.29\n",
      "product prediction mae:  4.09\n",
      "time taken:  38.63\n"
     ]
    }
   ],
   "source": [
    "# simple test: evaluate product predictions on 2016 April data\n",
    "evaluate_simple_ets (dft,cluster_df,centroids, distances, mapping, build_ets_model)\n",
    "# product prediction rmse:  1.29\n",
    "# product prediction mae:  4.09\n",
    "# time taken:  38.63\n",
    "# kaggle score: 2.25700"
   ]
  },
  {
   "cell_type": "code",
   "execution_count": null,
   "metadata": {},
   "outputs": [],
   "source": [
    "#format the result and export\n",
    "# res = format_result (predictions,full_calendar,\"store_subcat_last_week.csv\")"
   ]
  },
  {
   "cell_type": "markdown",
   "metadata": {},
   "source": [
    "## Clustering by store\n",
    "Under the assumption that the sales of each product is always a proportion of the total sales of the store, we treat each store as a natural cluster.  \n",
    "\n",
    "The cluster cetroid is the average sales for the store. We perform prediction on these centroids, and calculate predictions to individual products based on their distance to the centroid.\n",
    "\n",
    "Products' distance to the centroid is measured by their average sales in the last week relative to the average sales of the cluster, the store where they are selling. \n",
    "\n",
    "### Model: ETS (AAA)\n",
    "Note that the ETS (AAA) model perfomrs very similarly to the above ETS9AAA) model which used 70 clusters. Once again, apporxmation seems to save computing time at no nost in accuracy (this model performed better on the kaggle test set than the above one)."
   ]
  },
  {
   "cell_type": "code",
   "execution_count": 18,
   "metadata": {},
   "outputs": [],
   "source": [
    "#group the products by their stores\n",
    "stores = agg_and_date (df, calendar, \"store_id\", \"mean\")\n",
    "#get the centroid of store aka. time series of its average sales per product\n",
    "store_centroids = natural_cluster_centroids(stores)\n",
    "#predict the average sales of stores\n",
    "store_average_predictions = predict_centroids_ets (stores,store_centroids,build_ets_model)\n",
    "#calculate the distances from product to store average\n",
    "which_store = map_product_to_store (df)\n",
    "distances = calculate_distance_weighted(stores, dft, store_centroids, which_store)\n",
    "#calculate the predictions for all products within the cluster \n",
    "predictions = predict_for_all (dft, store_average_predictions, distances, which_store)"
   ]
  },
  {
   "cell_type": "code",
   "execution_count": 22,
   "metadata": {},
   "outputs": [
    {
     "name": "stdout",
     "output_type": "stream",
     "text": [
      "centroid prediction rmse:  0.19\n",
      "centroid prediction mae:  0.15\n",
      "time taken:  31.99\n",
      "product prediction rmse:  1.3\n",
      "product prediction mae:  4.16\n",
      "time taken:  20.64\n"
     ]
    }
   ],
   "source": [
    "# sliding window cross validation: measure the accuracy of prediction on average sales per store\n",
    "rmse_centroids = evaluate_model_ets (stores, build_ets_model)\n",
    "# simple test: evaluate product predictions on 2016 April data\n",
    "rmse = evaluate_simple_ets (dft,stores, store_centroids, distances, which_store, build_ets_model)\n",
    "# centroid prediction rmse:  0.19\n",
    "# centroid prediction mae:  0.15\n",
    "# time taken:  31.6\n",
    "# product prediction rmse:  1.3\n",
    "# product prediction mae:  4.16\n",
    "# time taken:  20.45\n",
    "# kaggle score: 2.23949"
   ]
  },
  {
   "cell_type": "code",
   "execution_count": null,
   "metadata": {},
   "outputs": [],
   "source": [
    "#format the result and export\n",
    "# res = format_result (predictions,full_calendar,\"store_ets_weeks_weighted.csv\")\n"
   ]
  },
  {
   "cell_type": "markdown",
   "metadata": {},
   "source": [
    "### ETS(AAA) with post-2015 data\n",
    "In EDA we observed that store trends stablise after mid 2015. Perhaps using post-mid 2015 data will give us better predictions"
   ]
  },
  {
   "cell_type": "code",
   "execution_count": 23,
   "metadata": {},
   "outputs": [],
   "source": [
    "#group the products by their stores \n",
    "cluster_df = agg_and_date (df, calendar, \"store_id\", \"mean\")\n",
    "#trumcate df\n",
    "cluster_df = cluster_df.loc[\"2015-01-01\":]"
   ]
  },
  {
   "cell_type": "code",
   "execution_count": 24,
   "metadata": {},
   "outputs": [],
   "source": [
    "#get the centroid of store aka. time series of its average sales\n",
    "centroids = natural_cluster_centroids(cluster_df)\n",
    "#predict the average sales of store\n",
    "centroid_predictions = predict_centroids_ets (cluster_df,centroids,build_ets_model)\n",
    "#calculate the distances from product to cluster average\n",
    "mapping = map_product_to_store (df)\n",
    "distances = calculate_distance_last_week (cluster_df, dft, centroids, mapping)\n",
    "#calculate the predictions for all products within the cluster \n",
    "predictions = predict_for_all (dft, centroid_predictions, distances, mapping)"
   ]
  },
  {
   "cell_type": "code",
   "execution_count": 25,
   "metadata": {},
   "outputs": [
    {
     "name": "stdout",
     "output_type": "stream",
     "text": [
      "centroid prediction rmse:  0.18\n",
      "centroid prediction mae:  0.14\n",
      "time taken:  14.07\n",
      "product prediction rmse:  1.3\n",
      "product prediction mae:  4.16\n",
      "time taken:  19.22\n"
     ]
    }
   ],
   "source": [
    "# sliding window cross validation: measure the accuracy of prediction on average sales per store\n",
    "metrics_centroids = evaluate_model_ets (cluster_df, build_ets_model)\n",
    "# simple test: evaluate product predictions on 2016 April data\n",
    "metrics = evaluate_simple_ets (dft,cluster_df, centroids, distances, mapping, build_ets_model)\n",
    "\n",
    "# centroid prediction rmse:  0.18\n",
    "# centroid prediction mae:  0.14\n",
    "# time taken:  14.07\n",
    "# product prediction rmse:  1.3\n",
    "# product prediction mae:  4.16\n",
    "# time taken:  19.22\n",
    "# kaggle score: 2.23849"
   ]
  },
  {
   "cell_type": "code",
   "execution_count": null,
   "metadata": {},
   "outputs": [],
   "source": [
    "#format the result and export\n",
    "# res = format_result (predictions,full_calendar,\"store_last_week_ets_2015.csv\")"
   ]
  },
  {
   "cell_type": "markdown",
   "metadata": {},
   "source": [
    "### Automated Seasonal ARIMA\n",
    "Below are the selected ARIMA parameters for prediction cluster centroids. Due to the run time, we comment out the code and report the selcted Sarima parameters by the stepwise algorithm. "
   ]
  },
  {
   "cell_type": "code",
   "execution_count": null,
   "metadata": {},
   "outputs": [],
   "source": [
    "# #group the products by their stores \n",
    "# cluster_df = agg_and_date (df, calendar, \"store_id\", \"mean\")\n",
    "# #get the centroid of store aka. time series of its average sales\n",
    "# centroids = natural_cluster_centroids(cluster_df)\n",
    "# #predict the average sales of store\n",
    "# centroid_predictions = predict_centroids_arima (cluster_df,centroids,build_sARIMA_model)\n",
    "# #calculate the distances from product to cluster average\n",
    "# mapping = map_product_to_store (df)\n",
    "# distances = calculate_distance_last_week (cluster_df, dft, centroids, mapping)\n",
    "# #calculate the predictions for all products within the cluster \n",
    "# predictions = predict_for_all (dft, centroid_predictions, distances, mapping)"
   ]
  },
  {
   "cell_type": "code",
   "execution_count": 27,
   "metadata": {},
   "outputs": [],
   "source": [
    "SARIMA_params = {\n",
    "\"Central_1\" : { \"order\": (0,0,4), \"seasonal_order\": (0,1,1,7)},\n",
    "\"Central_2\": { \"order\": (1,0,4), \"seasonal_order\": (0,1,1,7)},\n",
    "\"Central_3\": { \"order\": (0,0,4), \"seasonal_order\": (0,1,1,7)},\n",
    "\"East_1\": { \"order\": (1,0,4), \"seasonal_order\": (0,1,1,7)},\n",
    "\"East_2\": { \"order\": (1,0,4), \"seasonal_order\": (0,1,1,7)},\n",
    "\"East_3\": { \"order\": (0,0,4), \"seasonal_order\": (0,1,1,7)},\n",
    "\"East_4\": { \"order\": (0,0,4), \"seasonal_order\": (0,1,1,7)},\n",
    "\"West_1\": { \"order\": (1,0,4), \"seasonal_order\": (0,1,1,7)},\n",
    "\"West_2\": { \"order\": (0,0,4), \"seasonal_order\": (0,1,1,7)},\n",
    "\"West_3\": { \"order\": (2,0,1), \"seasonal_order\": (0,1,1,7)}\n",
    "}"
   ]
  },
  {
   "cell_type": "markdown",
   "metadata": {},
   "source": [
    "Here we we demonstrate how we built a seasonal arima model for each cluster centroid"
   ]
  },
  {
   "cell_type": "code",
   "execution_count": 28,
   "metadata": {},
   "outputs": [
    {
     "name": "stdout",
     "output_type": "stream",
     "text": [
      "predicted  21  days\n",
      "finished prediction for  Central_1 \n",
      "\n",
      "predicted  21  days\n",
      "finished prediction for  Central_2 \n",
      "\n",
      "predicted  21  days\n",
      "finished prediction for  Central_3 \n",
      "\n",
      "predicted  21  days\n",
      "finished prediction for  East_1 \n",
      "\n",
      "predicted  21  days\n",
      "finished prediction for  East_2 \n",
      "\n",
      "predicted  21  days\n",
      "finished prediction for  East_3 \n",
      "\n",
      "predicted  21  days\n",
      "finished prediction for  East_4 \n",
      "\n",
      "predicted  21  days\n",
      "finished prediction for  West_1 \n",
      "\n",
      "predicted  21  days\n",
      "finished prediction for  West_2 \n",
      "\n",
      "predicted  21  days\n",
      "finished prediction for  West_3 \n",
      "\n"
     ]
    }
   ],
   "source": [
    "centroids = natural_cluster_centroids(cluster_df)\n",
    "centroid_predictions = predict_centroids_arima_params (cluster_df,centroids, build_sARIMA_model_params, SARIMA_params)\n",
    "mapping = map_product_to_store (df)\n",
    "distances = calculate_distance_weighted (cluster_df, dft, centroids, mapping)\n",
    "#calculate the predictions for all products within the cluster \n",
    "predictions = predict_for_all (dft, centroid_predictions, distances, mapping)"
   ]
  },
  {
   "cell_type": "code",
   "execution_count": 42,
   "metadata": {},
   "outputs": [
    {
     "name": "stdout",
     "output_type": "stream",
     "text": [
      "predicted  30  days\n",
      "predicted  30  days\n",
      "predicted  30  days\n",
      "predicted  30  days\n",
      "predicted  30  days\n",
      "predicted  30  days\n",
      "predicted  30  days\n",
      "predicted  30  days\n",
      "predicted  30  days\n",
      "predicted  30  days\n",
      "product prediction rmse:  1.3\n",
      "product prediction mae:  4.14\n",
      "time taken:  79.97\n"
     ]
    }
   ],
   "source": [
    "# sliding window cross validation: measure the accuracy of prediction on average sales per store\n",
    "# rmse_centroids = evaluate_model_arima (cluster_df, build_sARIMA_model_params,SARIMA_params)\n",
    "# simple test: evaluate product predictions on 2016 April data\n",
    "rmse = evaluate_simple_arima (dft,cluster_df, store_centroids, distances, which_store, build_sARIMA_model_params,SARIMA_params)\n",
    "# centroid prediction rmse:  0.17\n",
    "# centroid prediction mae:  0.12\n",
    "# time taken:  269.4\n",
    "# product prediction rmse:  1.3\n",
    "# product prediction mae:  4.14\n",
    "# time taken:  79.97\n",
    "# kaggle score: 2.23917"
   ]
  },
  {
   "cell_type": "markdown",
   "metadata": {},
   "source": [
    "# Visualize Results"
   ]
  },
  {
   "cell_type": "code",
   "execution_count": 50,
   "metadata": {},
   "outputs": [
    {
     "data": {
      "text/plain": [
       "<matplotlib.legend.Legend at 0x7f576bdd1b50>"
      ]
     },
     "execution_count": 50,
     "metadata": {},
     "output_type": "execute_result"
    },
    {
     "data": {
      "text/plain": [
       "<Figure size 1440x720 with 0 Axes>"
      ]
     },
     "metadata": {},
     "output_type": "display_data"
    },
    {
     "data": {
      "image/png": "[encoded data removed]",
      "text/plain": [
       "<Figure size 432x288 with 1 Axes>"
      ]
     },
     "metadata": {
      "needs_background": "light"
     },
     "output_type": "display_data"
    }
   ],
   "source": [
    "import matplotlib.pyplot as plt\n",
    "plt.figure(figsize = (20,10))\n",
    "predf = pd.DataFrame(centroid_predictions)\n",
    "predf.plot()\n",
    "plt.legend(loc = \"right\")"
   ]
  },
  {
   "cell_type": "markdown",
   "metadata": {},
   "source": [
    "# Modelling conclusions\n",
    "\n",
    "We conclude that ETS (AAA) that utilises the whole trainig data and 10 stores as cluster is our best model since it yields about the same RMSE and a slightly lower RMSE on our test set, with significantly less computational time (~ 1 minute) compared to the SARIMA model (about 40 minutes needed with the indicated restrictions) and other ETS(AAA) models ran. Also, our ETS (AAA) model obtains a slightly lower RMSE score on the keggle test set. \n",
    "\n",
    "Going further,  and with more computational power available, we would perform ETS on every series and try clustering with series statistics like DTW distance on the whole training data. We could also explore ways to include the ETS(AAA) model with ARIMA, with models like TBATS. Again, more computational power would be needed to fit such models in reasonable time. "
   ]
  },
  {
   "cell_type": "markdown",
   "metadata": {},
   "source": [
    "## Key insights from Analysis"
   ]
  },
  {
   "cell_type": "markdown",
   "metadata": {},
   "source": [
    "We understand that the trade off between computational expensiveness and accuracy suggests for more simple models to be used for this forecasting exercise. More exactly, an ETS (AAA) model based on 10 stores as natural clusters outperforms or performs only slightly worse than more complex models like ARIMA and SARIMA.\n",
    "\n",
    "Our analysis highlted that anomalies in the series are sub_category and region specific. For future long term forecasts, we shall garner more contextual data to better understand those anomalies and incoporate them in our predictions. Also, more data and/or information is needed to understand why most stores's demand has plateud after 2014. Whether this issue arose due to growing physical or online competion, or other general demographic trends, understanding the cause of this change in trend is pivotal to formulate market seizing strategies that can invert this slumping trend.\n",
    "\n",
    "Similarly, we suggest the company to undergo market basket analysis to better understand the relationship between products in different categorise (substitutes, complementary items) and to possibly incorporate these in the forecasting model.\n",
    "\n",
    "Last, more context should be given to the final forecast, especially to understand the different volumes of demand that shops face. In our forecast, shop 'East_4' has the smallest predicted demand, along with the less significant fluctuations. More information is needed on the demographics of the locality, closeness of competitions and size of inventory to establish a cause for these differences between trends. understanding them might result in improvement strategies that aim at reproducing the conditions of higher-selling stores like 'East_3', where possible."
   ]
  }
 ],
 "metadata": {
  "kernelspec": {
   "display_name": "Python 3",
   "language": "python",
   "name": "python3"
  },
  "language_info": {
   "codemirror_mode": {
    "name": "ipython",
    "version": 3
   },
   "file_extension": ".py",
   "mimetype": "text/x-python",
   "name": "python",
   "nbconvert_exporter": "python",
   "pygments_lexer": "ipython3",
   "version": "3.6.12"
  }
 },
 "nbformat": 4,
 "nbformat_minor": 4
}
