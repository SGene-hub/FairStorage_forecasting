{
 "cells": [
  {
   "cell_type": "code",
   "execution_count": 1,
   "id": "historic-crossing",
   "metadata": {
    "_cell_guid": "b1076dfc-b9ad-4769-8c92-a6c4dae69d19",
    "_uuid": "8f2839f25d086af736a60e9eeb907d3b93b6e0e5",
    "execution": {
     "iopub.execute_input": "2021-05-03T13:32:43.244048Z",
     "iopub.status.busy": "2021-05-03T13:32:43.242877Z",
     "iopub.status.idle": "2021-05-03T13:32:45.238946Z",
     "shell.execute_reply": "2021-05-03T13:32:45.238194Z"
    },
    "papermill": {
     "duration": 2.0128,
     "end_time": "2021-05-03T13:32:45.239115",
     "exception": false,
     "start_time": "2021-05-03T13:32:43.226315",
     "status": "completed"
    },
    "tags": []
   },
   "outputs": [],
   "source": [
    "import time\n",
    "import plotly.express as px\n",
    "import pandas as pd\n",
    "import numpy as np\n",
    "import plotly.graph_objects as go\n",
    "import matplotlib.pyplot as plt\n",
    "import seaborn as sns\n",
    "import random \n",
    "import datetime\n",
    "import warnings\n",
    "warnings.filterwarnings(\"ignore\")\n",
    "import os\n"
   ]
  },
  {
   "cell_type": "code",
   "execution_count": 2,
   "id": "gothic-natural",
   "metadata": {
    "execution": {
     "iopub.execute_input": "2021-05-03T13:32:45.269559Z",
     "iopub.status.busy": "2021-05-03T13:32:45.268911Z",
     "iopub.status.idle": "2021-05-03T13:32:45.284133Z",
     "shell.execute_reply": "2021-05-03T13:32:45.283293Z"
    },
    "papermill": {
     "duration": 0.031986,
     "end_time": "2021-05-03T13:32:45.284357",
     "exception": false,
     "start_time": "2021-05-03T13:32:45.252371",
     "status": "completed"
    },
    "tags": []
   },
   "outputs": [
    {
     "name": "stdout",
     "output_type": "stream",
     "text": [
      "/kaggle/input/datasets-final/calendar.csv\n",
      "/kaggle/input/datasets-final/prices.csv\n",
      "/kaggle/input/datasets-final/train.csv\n"
     ]
    }
   ],
   "source": [
    "for dirname, _, filenames in os.walk('/kaggle/input'):\n",
    "    for filename in filenames:\n",
    "        print(os.path.join(dirname, filename))"
   ]
  },
  {
   "cell_type": "markdown",
   "id": "demanding-albert",
   "metadata": {
    "papermill": {
     "duration": 0.012858,
     "end_time": "2021-05-03T13:32:45.312063",
     "exception": false,
     "start_time": "2021-05-03T13:32:45.299205",
     "status": "completed"
    },
    "tags": []
   },
   "source": [
    "# EDA\n",
    "In this notebook, we perform minimal EDA to add onto the already comprehensive EDA perfomed for our Statistical Forecasting exercise."
   ]
  },
  {
   "cell_type": "code",
   "execution_count": 3,
   "id": "theoretical-coupon",
   "metadata": {
    "execution": {
     "iopub.execute_input": "2021-05-03T13:32:45.343936Z",
     "iopub.status.busy": "2021-05-03T13:32:45.342975Z",
     "iopub.status.idle": "2021-05-03T13:32:45.362846Z",
     "shell.execute_reply": "2021-05-03T13:32:45.362205Z"
    },
    "papermill": {
     "duration": 0.037912,
     "end_time": "2021-05-03T13:32:45.362990",
     "exception": false,
     "start_time": "2021-05-03T13:32:45.325078",
     "status": "completed"
    },
    "tags": []
   },
   "outputs": [],
   "source": [
    " #set style for all plots\n",
    "sns.set_style(\"darkgrid\")\n",
    "pd.plotting.register_matplotlib_converters()\n",
    "sns.mpl.rc(\"figure\",figsize=(10,5))"
   ]
  },
  {
   "cell_type": "code",
   "execution_count": 4,
   "id": "charged-above",
   "metadata": {
    "execution": {
     "iopub.execute_input": "2021-05-03T13:32:45.392211Z",
     "iopub.status.busy": "2021-05-03T13:32:45.391568Z",
     "iopub.status.idle": "2021-05-03T13:32:45.398300Z",
     "shell.execute_reply": "2021-05-03T13:32:45.398866Z"
    },
    "papermill": {
     "duration": 0.022938,
     "end_time": "2021-05-03T13:32:45.399025",
     "exception": false,
     "start_time": "2021-05-03T13:32:45.376087",
     "status": "completed"
    },
    "tags": []
   },
   "outputs": [],
   "source": [
    "def agg_and_date (df, calendar, cat, method):\n",
    "    \"\"\"\n",
    "    aggregate by certain categories (eg. store, subcat)\n",
    "    method can be \"sum\" or \"mean\"\n",
    "    \"\"\"\n",
    "    if method == \"sum\":\n",
    "        #aggregate sales by cat. take the sum\n",
    "        subdf = df.groupby(by=cat).sum().transpose()\n",
    "    elif method == \"mean\":\n",
    "        #take the mean\n",
    "        subdf = df.groupby(by=cat).mean().transpose()\n",
    "    else:\n",
    "        raise Exception()\n",
    "#concatenate calendar information with subdf\n",
    "    subdf.reset_index( drop=True, inplace=True)\n",
    "    calendar.reset_index( drop=True, inplace=True)\n",
    "    subdf = pd.concat([subdf, calendar.date], axis = 1, ignore_index= False)\n",
    "    subdf.set_index('date', inplace = True)\n",
    "    return subdf"
   ]
  },
  {
   "cell_type": "markdown",
   "id": "retired-fisher",
   "metadata": {
    "papermill": {
     "duration": 0.012863,
     "end_time": "2021-05-03T13:32:45.425087",
     "exception": false,
     "start_time": "2021-05-03T13:32:45.412224",
     "status": "completed"
    },
    "tags": []
   },
   "source": [
    "To start us off, we read the data from the csv-s.  "
   ]
  },
  {
   "cell_type": "code",
   "execution_count": 5,
   "id": "promotional-mayor",
   "metadata": {
    "execution": {
     "iopub.execute_input": "2021-05-03T13:32:45.454215Z",
     "iopub.status.busy": "2021-05-03T13:32:45.453575Z",
     "iopub.status.idle": "2021-05-03T13:32:45.458862Z",
     "shell.execute_reply": "2021-05-03T13:32:45.458379Z"
    },
    "papermill": {
     "duration": 0.020915,
     "end_time": "2021-05-03T13:32:45.458992",
     "exception": false,
     "start_time": "2021-05-03T13:32:45.438077",
     "status": "completed"
    },
    "tags": []
   },
   "outputs": [],
   "source": [
    "def read_data ():\n",
    "    sales = pd.read_csv(\"/kaggle/input/datasets-final/train.csv\", index_col = 0)\n",
    "    calendar = pd.read_csv(\"/kaggle/input/datasets-final/calendar.csv\", index_col = None)\n",
    "    prices = pd.read_csv(\"/kaggle/input/datasets-final/prices.csv\")\n",
    "    return sales, calendar, prices"
   ]
  },
  {
   "cell_type": "code",
   "execution_count": 6,
   "id": "yellow-violin",
   "metadata": {
    "execution": {
     "iopub.execute_input": "2021-05-03T13:32:45.490621Z",
     "iopub.status.busy": "2021-05-03T13:32:45.489845Z",
     "iopub.status.idle": "2021-05-03T13:32:57.441481Z",
     "shell.execute_reply": "2021-05-03T13:32:57.440974Z"
    },
    "papermill": {
     "duration": 11.969333,
     "end_time": "2021-05-03T13:32:57.441645",
     "exception": false,
     "start_time": "2021-05-03T13:32:45.472312",
     "status": "completed"
    },
    "tags": []
   },
   "outputs": [],
   "source": [
    "sales, calendar, prices = read_data () "
   ]
  },
  {
   "cell_type": "code",
   "execution_count": 7,
   "id": "floating-rider",
   "metadata": {
    "execution": {
     "iopub.execute_input": "2021-05-03T13:32:57.474764Z",
     "iopub.status.busy": "2021-05-03T13:32:57.474115Z",
     "iopub.status.idle": "2021-05-03T13:32:57.494528Z",
     "shell.execute_reply": "2021-05-03T13:32:57.493764Z"
    },
    "papermill": {
     "duration": 0.039582,
     "end_time": "2021-05-03T13:32:57.494711",
     "exception": false,
     "start_time": "2021-05-03T13:32:57.455129",
     "status": "completed"
    },
    "tags": []
   },
   "outputs": [
    {
     "name": "stdout",
     "output_type": "stream",
     "text": [
      "Number of regions: 3\n",
      "Number of stores: 10\n",
      "Number of categories: 3\n",
      "Number of subcategories: 7\n",
      "Number of items: 3049\n"
     ]
    }
   ],
   "source": [
    "print('Number of regions:',len(sales['region_id'].unique()))\n",
    "print('Number of stores:',len(sales['store_id'].unique()))\n",
    "print('Number of categories:',len(sales['category_id'].unique()))\n",
    "print('Number of subcategories:',len(sales['subcat_id'].unique()))\n",
    "print('Number of items:',len(sales['item_id'].unique()))"
   ]
  },
  {
   "cell_type": "markdown",
   "id": "cooked-torture",
   "metadata": {
    "papermill": {
     "duration": 0.013469,
     "end_time": "2021-05-03T13:32:57.522394",
     "exception": false,
     "start_time": "2021-05-03T13:32:57.508925",
     "status": "completed"
    },
    "tags": []
   },
   "source": [
    "The structure of the data set can be intuitively represented with the help of a tree map:"
   ]
  },
  {
   "cell_type": "code",
   "execution_count": 8,
   "id": "billion-teddy",
   "metadata": {
    "execution": {
     "iopub.execute_input": "2021-05-03T13:32:57.556973Z",
     "iopub.status.busy": "2021-05-03T13:32:57.555662Z",
     "iopub.status.idle": "2021-05-03T13:32:58.758992Z",
     "shell.execute_reply": "2021-05-03T13:32:58.758477Z"
    },
    "papermill": {
     "duration": 1.223782,
     "end_time": "2021-05-03T13:32:58.759127",
     "exception": false,
     "start_time": "2021-05-03T13:32:57.535345",
     "status": "completed"
    },
    "tags": []
   },
   "outputs": [
    {
     "data": {
      "text/html": [
       "        <script type=\"text/javascript\">\n",
       "        window.PlotlyConfig = {MathJaxConfig: 'local'};\n",
       "        if (window.MathJax) {MathJax.Hub.Config({SVG: {font: \"STIX-Web\"}});}\n",
       "        if (typeof require !== 'undefined') {\n",
       "        require.undef(\"plotly\");\n",
       "        requirejs.config({\n",
       "            paths: {\n",
       "                'plotly': ['https://cdn.plot.ly/plotly-latest.min']\n",
       "            }\n",
       "        });\n",
       "        require(['plotly'], function(Plotly) {\n",
       "            window._Plotly = Plotly;\n",
       "        });\n",
       "        }\n",
       "        </script>\n",
       "        "
      ]
     },
     "metadata": {},
     "output_type": "display_data"
    },
    {
     "data": {
      "text/html": [
       "<div>                            <div id=\"1ea3213a-7bc2-4e6c-a672-f4f33756e8f1\" class=\"plotly-graph-div\" style=\"height:525px; width:100%;\"></div>            <script type=\"text/javascript\">                require([\"plotly\"], function(Plotly) {                    window.PLOTLYENV=window.PLOTLYENV || {};                                    if (document.getElementById(\"1ea3213a-7bc2-4e6c-a672-f4f33756e8f1\")) {                    Plotly.newPlot(                        \"1ea3213a-7bc2-4e6c-a672-f4f33756e8f1\",                        [{\"branchvalues\": \"total\", \"customdata\": [[416.0], [416.0], [416.0], [416.0], [416.0], [416.0], [416.0], [416.0], [416.0], [416.0], [149.0], [149.0], [149.0], [149.0], [149.0], [149.0], [149.0], [149.0], [149.0], [149.0], [532.0], [532.0], [532.0], [532.0], [532.0], [532.0], [532.0], [532.0], [532.0], [532.0], [515.0], [515.0], [515.0], [515.0], [515.0], [515.0], [515.0], [515.0], [515.0], [515.0], [216.0], [216.0], [216.0], [216.0], [216.0], [216.0], [216.0], [216.0], [216.0], [216.0], [398.0], [398.0], [398.0], [398.0], [398.0], [398.0], [398.0], [398.0], [398.0], [398.0], [823.0], [823.0], [823.0], [823.0], [823.0], [823.0], [823.0], [823.0], [823.0], [823.0], [345.58761061946905], [345.58761061946905], [345.58761061946905], [345.58761061946905], [345.58761061946905], [345.58761061946905], [345.58761061946905], [345.58761061946905], [345.58761061946905], [345.58761061946905], [523.6380133715377], [523.6380133715377], [523.6380133715377], [523.6380133715377], [523.6380133715377], [523.6380133715377], [523.6380133715377], [523.6380133715377], [523.6380133715377], [523.6380133715377], [614.0494084899095], [614.0494084899095], [614.0494084899095], [614.0494084899095], [614.0494084899095], [614.0494084899095], [614.0494084899095], [614.0494084899095], [614.0494084899095], [614.0494084899095], [533.2551656280748], [533.2551656280748], [533.2551656280748], [533.2551656280748], [533.2551656280748], [533.2551656280748], [533.2551656280748], [533.2551656280748], [533.2551656280748], [533.2551656280748], [533.2551656280748], [533.2551656280748], [533.2551656280748], [533.2551656280748]], \"domain\": {\"x\": [0.0, 1.0], \"y\": [0.0, 1.0]}, \"hovertemplate\": \"labels=%{label}<br>item_id_sum=%{value}<br>parent=%{parent}<br>id=%{id}<br>item_id=%{color}<extra></extra>\", \"ids\": [\"FairStorage/Central/Central_1/Beauty/Beauty_1\", \"FairStorage/Central/Central_2/Beauty/Beauty_1\", \"FairStorage/Central/Central_3/Beauty/Beauty_1\", \"FairStorage/East/East_1/Beauty/Beauty_1\", \"FairStorage/East/East_2/Beauty/Beauty_1\", \"FairStorage/East/East_3/Beauty/Beauty_1\", \"FairStorage/East/East_4/Beauty/Beauty_1\", \"FairStorage/West/West_1/Beauty/Beauty_1\", \"FairStorage/West/West_2/Beauty/Beauty_1\", \"FairStorage/West/West_3/Beauty/Beauty_1\", \"FairStorage/Central/Central_1/Beauty/Beauty_2\", \"FairStorage/Central/Central_2/Beauty/Beauty_2\", \"FairStorage/Central/Central_3/Beauty/Beauty_2\", \"FairStorage/East/East_1/Beauty/Beauty_2\", \"FairStorage/East/East_2/Beauty/Beauty_2\", \"FairStorage/East/East_3/Beauty/Beauty_2\", \"FairStorage/East/East_4/Beauty/Beauty_2\", \"FairStorage/West/West_1/Beauty/Beauty_2\", \"FairStorage/West/West_2/Beauty/Beauty_2\", \"FairStorage/West/West_3/Beauty/Beauty_2\", \"FairStorage/Central/Central_1/Cleaning/Cleaning_1\", \"FairStorage/Central/Central_2/Cleaning/Cleaning_1\", \"FairStorage/Central/Central_3/Cleaning/Cleaning_1\", \"FairStorage/East/East_1/Cleaning/Cleaning_1\", \"FairStorage/East/East_2/Cleaning/Cleaning_1\", \"FairStorage/East/East_3/Cleaning/Cleaning_1\", \"FairStorage/East/East_4/Cleaning/Cleaning_1\", \"FairStorage/West/West_1/Cleaning/Cleaning_1\", \"FairStorage/West/West_2/Cleaning/Cleaning_1\", \"FairStorage/West/West_3/Cleaning/Cleaning_1\", \"FairStorage/Central/Central_1/Cleaning/Cleaning_2\", \"FairStorage/Central/Central_2/Cleaning/Cleaning_2\", \"FairStorage/Central/Central_3/Cleaning/Cleaning_2\", \"FairStorage/East/East_1/Cleaning/Cleaning_2\", \"FairStorage/East/East_2/Cleaning/Cleaning_2\", \"FairStorage/East/East_3/Cleaning/Cleaning_2\", \"FairStorage/East/East_4/Cleaning/Cleaning_2\", \"FairStorage/West/West_1/Cleaning/Cleaning_2\", \"FairStorage/West/West_2/Cleaning/Cleaning_2\", \"FairStorage/West/West_3/Cleaning/Cleaning_2\", \"FairStorage/Central/Central_1/Food/Food_1\", \"FairStorage/Central/Central_2/Food/Food_1\", \"FairStorage/Central/Central_3/Food/Food_1\", \"FairStorage/East/East_1/Food/Food_1\", \"FairStorage/East/East_2/Food/Food_1\", \"FairStorage/East/East_3/Food/Food_1\", \"FairStorage/East/East_4/Food/Food_1\", \"FairStorage/West/West_1/Food/Food_1\", \"FairStorage/West/West_2/Food/Food_1\", \"FairStorage/West/West_3/Food/Food_1\", \"FairStorage/Central/Central_1/Food/Food_2\", \"FairStorage/Central/Central_2/Food/Food_2\", \"FairStorage/Central/Central_3/Food/Food_2\", \"FairStorage/East/East_1/Food/Food_2\", \"FairStorage/East/East_2/Food/Food_2\", \"FairStorage/East/East_3/Food/Food_2\", \"FairStorage/East/East_4/Food/Food_2\", \"FairStorage/West/West_1/Food/Food_2\", \"FairStorage/West/West_2/Food/Food_2\", \"FairStorage/West/West_3/Food/Food_2\", \"FairStorage/Central/Central_1/Food/Food_3\", \"FairStorage/Central/Central_2/Food/Food_3\", \"FairStorage/Central/Central_3/Food/Food_3\", \"FairStorage/East/East_1/Food/Food_3\", \"FairStorage/East/East_2/Food/Food_3\", \"FairStorage/East/East_3/Food/Food_3\", \"FairStorage/East/East_4/Food/Food_3\", \"FairStorage/West/West_1/Food/Food_3\", \"FairStorage/West/West_2/Food/Food_3\", \"FairStorage/West/West_3/Food/Food_3\", \"FairStorage/Central/Central_1/Beauty\", \"FairStorage/Central/Central_2/Beauty\", \"FairStorage/Central/Central_3/Beauty\", \"FairStorage/East/East_1/Beauty\", \"FairStorage/East/East_2/Beauty\", \"FairStorage/East/East_3/Beauty\", \"FairStorage/East/East_4/Beauty\", \"FairStorage/West/West_1/Beauty\", \"FairStorage/West/West_2/Beauty\", \"FairStorage/West/West_3/Beauty\", \"FairStorage/Central/Central_1/Cleaning\", \"FairStorage/Central/Central_2/Cleaning\", \"FairStorage/Central/Central_3/Cleaning\", \"FairStorage/East/East_1/Cleaning\", \"FairStorage/East/East_2/Cleaning\", \"FairStorage/East/East_3/Cleaning\", \"FairStorage/East/East_4/Cleaning\", \"FairStorage/West/West_1/Cleaning\", \"FairStorage/West/West_2/Cleaning\", \"FairStorage/West/West_3/Cleaning\", \"FairStorage/Central/Central_1/Food\", \"FairStorage/Central/Central_2/Food\", \"FairStorage/Central/Central_3/Food\", \"FairStorage/East/East_1/Food\", \"FairStorage/East/East_2/Food\", \"FairStorage/East/East_3/Food\", \"FairStorage/East/East_4/Food\", \"FairStorage/West/West_1/Food\", \"FairStorage/West/West_2/Food\", \"FairStorage/West/West_3/Food\", \"FairStorage/Central/Central_1\", \"FairStorage/Central/Central_2\", \"FairStorage/Central/Central_3\", \"FairStorage/East/East_1\", \"FairStorage/East/East_2\", \"FairStorage/East/East_3\", \"FairStorage/East/East_4\", \"FairStorage/West/West_1\", \"FairStorage/West/West_2\", \"FairStorage/West/West_3\", \"FairStorage/Central\", \"FairStorage/East\", \"FairStorage/West\", \"FairStorage\"], \"labels\": [\"Beauty_1\", \"Beauty_1\", \"Beauty_1\", \"Beauty_1\", \"Beauty_1\", \"Beauty_1\", \"Beauty_1\", \"Beauty_1\", \"Beauty_1\", \"Beauty_1\", \"Beauty_2\", \"Beauty_2\", \"Beauty_2\", \"Beauty_2\", \"Beauty_2\", \"Beauty_2\", \"Beauty_2\", \"Beauty_2\", \"Beauty_2\", \"Beauty_2\", \"Cleaning_1\", \"Cleaning_1\", \"Cleaning_1\", \"Cleaning_1\", \"Cleaning_1\", \"Cleaning_1\", \"Cleaning_1\", \"Cleaning_1\", \"Cleaning_1\", \"Cleaning_1\", \"Cleaning_2\", \"Cleaning_2\", \"Cleaning_2\", \"Cleaning_2\", \"Cleaning_2\", \"Cleaning_2\", \"Cleaning_2\", \"Cleaning_2\", \"Cleaning_2\", \"Cleaning_2\", \"Food_1\", \"Food_1\", \"Food_1\", \"Food_1\", \"Food_1\", \"Food_1\", \"Food_1\", \"Food_1\", \"Food_1\", \"Food_1\", \"Food_2\", \"Food_2\", \"Food_2\", \"Food_2\", \"Food_2\", \"Food_2\", \"Food_2\", \"Food_2\", \"Food_2\", \"Food_2\", \"Food_3\", \"Food_3\", \"Food_3\", \"Food_3\", \"Food_3\", \"Food_3\", \"Food_3\", \"Food_3\", \"Food_3\", \"Food_3\", \"Beauty\", \"Beauty\", \"Beauty\", \"Beauty\", \"Beauty\", \"Beauty\", \"Beauty\", \"Beauty\", \"Beauty\", \"Beauty\", \"Cleaning\", \"Cleaning\", \"Cleaning\", \"Cleaning\", \"Cleaning\", \"Cleaning\", \"Cleaning\", \"Cleaning\", \"Cleaning\", \"Cleaning\", \"Food\", \"Food\", \"Food\", \"Food\", \"Food\", \"Food\", \"Food\", \"Food\", \"Food\", \"Food\", \"Central_1\", \"Central_2\", \"Central_3\", \"East_1\", \"East_2\", \"East_3\", \"East_4\", \"West_1\", \"West_2\", \"West_3\", \"Central\", \"East\", \"West\", \"FairStorage\"], \"marker\": {\"coloraxis\": \"coloraxis\", \"colors\": [416.0, 416.0, 416.0, 416.0, 416.0, 416.0, 416.0, 416.0, 416.0, 416.0, 149.0, 149.0, 149.0, 149.0, 149.0, 149.0, 149.0, 149.0, 149.0, 149.0, 532.0, 532.0, 532.0, 532.0, 532.0, 532.0, 532.0, 532.0, 532.0, 532.0, 515.0, 515.0, 515.0, 515.0, 515.0, 515.0, 515.0, 515.0, 515.0, 515.0, 216.0, 216.0, 216.0, 216.0, 216.0, 216.0, 216.0, 216.0, 216.0, 216.0, 398.0, 398.0, 398.0, 398.0, 398.0, 398.0, 398.0, 398.0, 398.0, 398.0, 823.0, 823.0, 823.0, 823.0, 823.0, 823.0, 823.0, 823.0, 823.0, 823.0, 345.58761061946905, 345.58761061946905, 345.58761061946905, 345.58761061946905, 345.58761061946905, 345.58761061946905, 345.58761061946905, 345.58761061946905, 345.58761061946905, 345.58761061946905, 523.6380133715377, 523.6380133715377, 523.6380133715377, 523.6380133715377, 523.6380133715377, 523.6380133715377, 523.6380133715377, 523.6380133715377, 523.6380133715377, 523.6380133715377, 614.0494084899095, 614.0494084899095, 614.0494084899095, 614.0494084899095, 614.0494084899095, 614.0494084899095, 614.0494084899095, 614.0494084899095, 614.0494084899095, 614.0494084899095, 533.2551656280748, 533.2551656280748, 533.2551656280748, 533.2551656280748, 533.2551656280748, 533.2551656280748, 533.2551656280748, 533.2551656280748, 533.2551656280748, 533.2551656280748, 533.2551656280748, 533.2551656280748, 533.2551656280748, 533.2551656280748]}, \"name\": \"\", \"parents\": [\"FairStorage/Central/Central_1/Beauty\", \"FairStorage/Central/Central_2/Beauty\", \"FairStorage/Central/Central_3/Beauty\", \"FairStorage/East/East_1/Beauty\", \"FairStorage/East/East_2/Beauty\", \"FairStorage/East/East_3/Beauty\", \"FairStorage/East/East_4/Beauty\", \"FairStorage/West/West_1/Beauty\", \"FairStorage/West/West_2/Beauty\", \"FairStorage/West/West_3/Beauty\", \"FairStorage/Central/Central_1/Beauty\", \"FairStorage/Central/Central_2/Beauty\", \"FairStorage/Central/Central_3/Beauty\", \"FairStorage/East/East_1/Beauty\", \"FairStorage/East/East_2/Beauty\", \"FairStorage/East/East_3/Beauty\", \"FairStorage/East/East_4/Beauty\", \"FairStorage/West/West_1/Beauty\", \"FairStorage/West/West_2/Beauty\", \"FairStorage/West/West_3/Beauty\", \"FairStorage/Central/Central_1/Cleaning\", \"FairStorage/Central/Central_2/Cleaning\", \"FairStorage/Central/Central_3/Cleaning\", \"FairStorage/East/East_1/Cleaning\", \"FairStorage/East/East_2/Cleaning\", \"FairStorage/East/East_3/Cleaning\", \"FairStorage/East/East_4/Cleaning\", \"FairStorage/West/West_1/Cleaning\", \"FairStorage/West/West_2/Cleaning\", \"FairStorage/West/West_3/Cleaning\", \"FairStorage/Central/Central_1/Cleaning\", \"FairStorage/Central/Central_2/Cleaning\", \"FairStorage/Central/Central_3/Cleaning\", \"FairStorage/East/East_1/Cleaning\", \"FairStorage/East/East_2/Cleaning\", \"FairStorage/East/East_3/Cleaning\", \"FairStorage/East/East_4/Cleaning\", \"FairStorage/West/West_1/Cleaning\", \"FairStorage/West/West_2/Cleaning\", \"FairStorage/West/West_3/Cleaning\", \"FairStorage/Central/Central_1/Food\", \"FairStorage/Central/Central_2/Food\", \"FairStorage/Central/Central_3/Food\", \"FairStorage/East/East_1/Food\", \"FairStorage/East/East_2/Food\", \"FairStorage/East/East_3/Food\", \"FairStorage/East/East_4/Food\", \"FairStorage/West/West_1/Food\", \"FairStorage/West/West_2/Food\", \"FairStorage/West/West_3/Food\", \"FairStorage/Central/Central_1/Food\", \"FairStorage/Central/Central_2/Food\", \"FairStorage/Central/Central_3/Food\", \"FairStorage/East/East_1/Food\", \"FairStorage/East/East_2/Food\", \"FairStorage/East/East_3/Food\", \"FairStorage/East/East_4/Food\", \"FairStorage/West/West_1/Food\", \"FairStorage/West/West_2/Food\", \"FairStorage/West/West_3/Food\", \"FairStorage/Central/Central_1/Food\", \"FairStorage/Central/Central_2/Food\", \"FairStorage/Central/Central_3/Food\", \"FairStorage/East/East_1/Food\", \"FairStorage/East/East_2/Food\", \"FairStorage/East/East_3/Food\", \"FairStorage/East/East_4/Food\", \"FairStorage/West/West_1/Food\", \"FairStorage/West/West_2/Food\", \"FairStorage/West/West_3/Food\", \"FairStorage/Central/Central_1\", \"FairStorage/Central/Central_2\", \"FairStorage/Central/Central_3\", \"FairStorage/East/East_1\", \"FairStorage/East/East_2\", \"FairStorage/East/East_3\", \"FairStorage/East/East_4\", \"FairStorage/West/West_1\", \"FairStorage/West/West_2\", \"FairStorage/West/West_3\", \"FairStorage/Central/Central_1\", \"FairStorage/Central/Central_2\", \"FairStorage/Central/Central_3\", \"FairStorage/East/East_1\", \"FairStorage/East/East_2\", \"FairStorage/East/East_3\", \"FairStorage/East/East_4\", \"FairStorage/West/West_1\", \"FairStorage/West/West_2\", \"FairStorage/West/West_3\", \"FairStorage/Central/Central_1\", \"FairStorage/Central/Central_2\", \"FairStorage/Central/Central_3\", \"FairStorage/East/East_1\", \"FairStorage/East/East_2\", \"FairStorage/East/East_3\", \"FairStorage/East/East_4\", \"FairStorage/West/West_1\", \"FairStorage/West/West_2\", \"FairStorage/West/West_3\", \"FairStorage/Central\", \"FairStorage/Central\", \"FairStorage/Central\", \"FairStorage/East\", \"FairStorage/East\", \"FairStorage/East\", \"FairStorage/East\", \"FairStorage/West\", \"FairStorage/West\", \"FairStorage/West\", \"FairStorage\", \"FairStorage\", \"FairStorage\", \"\"], \"type\": \"treemap\", \"values\": [416, 416, 416, 416, 416, 416, 416, 416, 416, 416, 149, 149, 149, 149, 149, 149, 149, 149, 149, 149, 532, 532, 532, 532, 532, 532, 532, 532, 532, 532, 515, 515, 515, 515, 515, 515, 515, 515, 515, 515, 216, 216, 216, 216, 216, 216, 216, 216, 216, 216, 398, 398, 398, 398, 398, 398, 398, 398, 398, 398, 823, 823, 823, 823, 823, 823, 823, 823, 823, 823, 565, 565, 565, 565, 565, 565, 565, 565, 565, 565, 1047, 1047, 1047, 1047, 1047, 1047, 1047, 1047, 1047, 1047, 1437, 1437, 1437, 1437, 1437, 1437, 1437, 1437, 1437, 1437, 3049, 3049, 3049, 3049, 3049, 3049, 3049, 3049, 3049, 3049, 9147, 12196, 9147, 30490]}],                        {\"coloraxis\": {\"colorbar\": {\"title\": {\"text\": \"item_id\"}}, \"colorscale\": [[0.0, \"rgb(103,0,31)\"], [0.1, \"rgb(178,24,43)\"], [0.2, \"rgb(214,96,77)\"], [0.3, \"rgb(244,165,130)\"], [0.4, \"rgb(253,219,199)\"], [0.5, \"rgb(247,247,247)\"], [0.6, \"rgb(209,229,240)\"], [0.7, \"rgb(146,197,222)\"], [0.8, \"rgb(67,147,195)\"], [0.9, \"rgb(33,102,172)\"], [1.0, \"rgb(5,48,97)\"]]}, \"legend\": {\"tracegroupgap\": 0}, \"template\": {\"data\": {\"bar\": [{\"error_x\": {\"color\": \"#2a3f5f\"}, \"error_y\": {\"color\": \"#2a3f5f\"}, \"marker\": {\"line\": {\"color\": \"#E5ECF6\", \"width\": 0.5}}, \"type\": \"bar\"}], \"barpolar\": [{\"marker\": {\"line\": {\"color\": \"#E5ECF6\", \"width\": 0.5}}, \"type\": \"barpolar\"}], \"carpet\": [{\"aaxis\": {\"endlinecolor\": \"#2a3f5f\", \"gridcolor\": \"white\", \"linecolor\": \"white\", \"minorgridcolor\": \"white\", \"startlinecolor\": \"#2a3f5f\"}, \"baxis\": {\"endlinecolor\": \"#2a3f5f\", \"gridcolor\": \"white\", \"linecolor\": \"white\", \"minorgridcolor\": \"white\", \"startlinecolor\": \"#2a3f5f\"}, \"type\": \"carpet\"}], \"choropleth\": [{\"colorbar\": {\"outlinewidth\": 0, \"ticks\": \"\"}, \"type\": \"choropleth\"}], \"contour\": [{\"colorbar\": {\"outlinewidth\": 0, \"ticks\": \"\"}, \"colorscale\": [[0.0, \"#0d0887\"], [0.1111111111111111, \"#46039f\"], [0.2222222222222222, \"#7201a8\"], [0.3333333333333333, \"#9c179e\"], [0.4444444444444444, \"#bd3786\"], [0.5555555555555556, \"#d8576b\"], [0.6666666666666666, \"#ed7953\"], [0.7777777777777778, \"#fb9f3a\"], [0.8888888888888888, \"#fdca26\"], [1.0, \"#f0f921\"]], \"type\": \"contour\"}], \"contourcarpet\": [{\"colorbar\": {\"outlinewidth\": 0, \"ticks\": \"\"}, \"type\": \"contourcarpet\"}], \"heatmap\": [{\"colorbar\": {\"outlinewidth\": 0, \"ticks\": \"\"}, \"colorscale\": [[0.0, \"#0d0887\"], [0.1111111111111111, \"#46039f\"], [0.2222222222222222, \"#7201a8\"], [0.3333333333333333, \"#9c179e\"], [0.4444444444444444, \"#bd3786\"], [0.5555555555555556, \"#d8576b\"], [0.6666666666666666, \"#ed7953\"], [0.7777777777777778, \"#fb9f3a\"], [0.8888888888888888, \"#fdca26\"], [1.0, \"#f0f921\"]], \"type\": \"heatmap\"}], \"heatmapgl\": [{\"colorbar\": {\"outlinewidth\": 0, \"ticks\": \"\"}, \"colorscale\": [[0.0, \"#0d0887\"], [0.1111111111111111, \"#46039f\"], [0.2222222222222222, \"#7201a8\"], [0.3333333333333333, \"#9c179e\"], [0.4444444444444444, \"#bd3786\"], [0.5555555555555556, \"#d8576b\"], [0.6666666666666666, \"#ed7953\"], [0.7777777777777778, \"#fb9f3a\"], [0.8888888888888888, \"#fdca26\"], [1.0, \"#f0f921\"]], \"type\": \"heatmapgl\"}], \"histogram\": [{\"marker\": {\"colorbar\": {\"outlinewidth\": 0, \"ticks\": \"\"}}, \"type\": \"histogram\"}], \"histogram2d\": [{\"colorbar\": {\"outlinewidth\": 0, \"ticks\": \"\"}, \"colorscale\": [[0.0, \"#0d0887\"], [0.1111111111111111, \"#46039f\"], [0.2222222222222222, \"#7201a8\"], [0.3333333333333333, \"#9c179e\"], [0.4444444444444444, \"#bd3786\"], [0.5555555555555556, \"#d8576b\"], [0.6666666666666666, \"#ed7953\"], [0.7777777777777778, \"#fb9f3a\"], [0.8888888888888888, \"#fdca26\"], [1.0, \"#f0f921\"]], \"type\": \"histogram2d\"}], \"histogram2dcontour\": [{\"colorbar\": {\"outlinewidth\": 0, \"ticks\": \"\"}, \"colorscale\": [[0.0, \"#0d0887\"], [0.1111111111111111, \"#46039f\"], [0.2222222222222222, \"#7201a8\"], [0.3333333333333333, \"#9c179e\"], [0.4444444444444444, \"#bd3786\"], [0.5555555555555556, \"#d8576b\"], [0.6666666666666666, \"#ed7953\"], [0.7777777777777778, \"#fb9f3a\"], [0.8888888888888888, \"#fdca26\"], [1.0, \"#f0f921\"]], \"type\": \"histogram2dcontour\"}], \"mesh3d\": [{\"colorbar\": {\"outlinewidth\": 0, \"ticks\": \"\"}, \"type\": \"mesh3d\"}], \"parcoords\": [{\"line\": {\"colorbar\": {\"outlinewidth\": 0, \"ticks\": \"\"}}, \"type\": \"parcoords\"}], \"pie\": [{\"automargin\": true, \"type\": \"pie\"}], \"scatter\": [{\"marker\": {\"colorbar\": {\"outlinewidth\": 0, \"ticks\": \"\"}}, \"type\": \"scatter\"}], \"scatter3d\": [{\"line\": {\"colorbar\": {\"outlinewidth\": 0, \"ticks\": \"\"}}, \"marker\": {\"colorbar\": {\"outlinewidth\": 0, \"ticks\": \"\"}}, \"type\": \"scatter3d\"}], \"scattercarpet\": [{\"marker\": {\"colorbar\": {\"outlinewidth\": 0, \"ticks\": \"\"}}, \"type\": \"scattercarpet\"}], \"scattergeo\": [{\"marker\": {\"colorbar\": {\"outlinewidth\": 0, \"ticks\": \"\"}}, \"type\": \"scattergeo\"}], \"scattergl\": [{\"marker\": {\"colorbar\": {\"outlinewidth\": 0, \"ticks\": \"\"}}, \"type\": \"scattergl\"}], \"scattermapbox\": [{\"marker\": {\"colorbar\": {\"outlinewidth\": 0, \"ticks\": \"\"}}, \"type\": \"scattermapbox\"}], \"scatterpolar\": [{\"marker\": {\"colorbar\": {\"outlinewidth\": 0, \"ticks\": \"\"}}, \"type\": \"scatterpolar\"}], \"scatterpolargl\": [{\"marker\": {\"colorbar\": {\"outlinewidth\": 0, \"ticks\": \"\"}}, \"type\": \"scatterpolargl\"}], \"scatterternary\": [{\"marker\": {\"colorbar\": {\"outlinewidth\": 0, \"ticks\": \"\"}}, \"type\": \"scatterternary\"}], \"surface\": [{\"colorbar\": {\"outlinewidth\": 0, \"ticks\": \"\"}, \"colorscale\": [[0.0, \"#0d0887\"], [0.1111111111111111, \"#46039f\"], [0.2222222222222222, \"#7201a8\"], [0.3333333333333333, \"#9c179e\"], [0.4444444444444444, \"#bd3786\"], [0.5555555555555556, \"#d8576b\"], [0.6666666666666666, \"#ed7953\"], [0.7777777777777778, \"#fb9f3a\"], [0.8888888888888888, \"#fdca26\"], [1.0, \"#f0f921\"]], \"type\": \"surface\"}], \"table\": [{\"cells\": {\"fill\": {\"color\": \"#EBF0F8\"}, \"line\": {\"color\": \"white\"}}, \"header\": {\"fill\": {\"color\": \"#C8D4E3\"}, \"line\": {\"color\": \"white\"}}, \"type\": \"table\"}]}, \"layout\": {\"annotationdefaults\": {\"arrowcolor\": \"#2a3f5f\", \"arrowhead\": 0, \"arrowwidth\": 1}, \"autotypenumbers\": \"strict\", \"coloraxis\": {\"colorbar\": {\"outlinewidth\": 0, \"ticks\": \"\"}}, \"colorscale\": {\"diverging\": [[0, \"#8e0152\"], [0.1, \"#c51b7d\"], [0.2, \"#de77ae\"], [0.3, \"#f1b6da\"], [0.4, \"#fde0ef\"], [0.5, \"#f7f7f7\"], [0.6, \"#e6f5d0\"], [0.7, \"#b8e186\"], [0.8, \"#7fbc41\"], [0.9, \"#4d9221\"], [1, \"#276419\"]], \"sequential\": [[0.0, \"#0d0887\"], [0.1111111111111111, \"#46039f\"], [0.2222222222222222, \"#7201a8\"], [0.3333333333333333, \"#9c179e\"], [0.4444444444444444, \"#bd3786\"], [0.5555555555555556, \"#d8576b\"], [0.6666666666666666, \"#ed7953\"], [0.7777777777777778, \"#fb9f3a\"], [0.8888888888888888, \"#fdca26\"], [1.0, \"#f0f921\"]], \"sequentialminus\": [[0.0, \"#0d0887\"], [0.1111111111111111, \"#46039f\"], [0.2222222222222222, \"#7201a8\"], [0.3333333333333333, \"#9c179e\"], [0.4444444444444444, \"#bd3786\"], [0.5555555555555556, \"#d8576b\"], [0.6666666666666666, \"#ed7953\"], [0.7777777777777778, \"#fb9f3a\"], [0.8888888888888888, \"#fdca26\"], [1.0, \"#f0f921\"]]}, \"colorway\": [\"#636efa\", \"#EF553B\", \"#00cc96\", \"#ab63fa\", \"#FFA15A\", \"#19d3f3\", \"#FF6692\", \"#B6E880\", \"#FF97FF\", \"#FECB52\"], \"font\": {\"color\": \"#2a3f5f\"}, \"geo\": {\"bgcolor\": \"white\", \"lakecolor\": \"white\", \"landcolor\": \"#E5ECF6\", \"showlakes\": true, \"showland\": true, \"subunitcolor\": \"white\"}, \"hoverlabel\": {\"align\": \"left\"}, \"hovermode\": \"closest\", \"mapbox\": {\"style\": \"light\"}, \"paper_bgcolor\": \"white\", \"plot_bgcolor\": \"#E5ECF6\", \"polar\": {\"angularaxis\": {\"gridcolor\": \"white\", \"linecolor\": \"white\", \"ticks\": \"\"}, \"bgcolor\": \"#E5ECF6\", \"radialaxis\": {\"gridcolor\": \"white\", \"linecolor\": \"white\", \"ticks\": \"\"}}, \"scene\": {\"xaxis\": {\"backgroundcolor\": \"#E5ECF6\", \"gridcolor\": \"white\", \"gridwidth\": 2, \"linecolor\": \"white\", \"showbackground\": true, \"ticks\": \"\", \"zerolinecolor\": \"white\"}, \"yaxis\": {\"backgroundcolor\": \"#E5ECF6\", \"gridcolor\": \"white\", \"gridwidth\": 2, \"linecolor\": \"white\", \"showbackground\": true, \"ticks\": \"\", \"zerolinecolor\": \"white\"}, \"zaxis\": {\"backgroundcolor\": \"#E5ECF6\", \"gridcolor\": \"white\", \"gridwidth\": 2, \"linecolor\": \"white\", \"showbackground\": true, \"ticks\": \"\", \"zerolinecolor\": \"white\"}}, \"shapedefaults\": {\"line\": {\"color\": \"#2a3f5f\"}}, \"ternary\": {\"aaxis\": {\"gridcolor\": \"white\", \"linecolor\": \"white\", \"ticks\": \"\"}, \"baxis\": {\"gridcolor\": \"white\", \"linecolor\": \"white\", \"ticks\": \"\"}, \"bgcolor\": \"#E5ECF6\", \"caxis\": {\"gridcolor\": \"white\", \"linecolor\": \"white\", \"ticks\": \"\"}}, \"title\": {\"x\": 0.05}, \"xaxis\": {\"automargin\": true, \"gridcolor\": \"white\", \"linecolor\": \"white\", \"ticks\": \"\", \"title\": {\"standoff\": 15}, \"zerolinecolor\": \"white\", \"zerolinewidth\": 2}, \"yaxis\": {\"automargin\": true, \"gridcolor\": \"white\", \"linecolor\": \"white\", \"ticks\": \"\", \"title\": {\"standoff\": 15}, \"zerolinecolor\": \"white\", \"zerolinewidth\": 2}}}, \"title\": {\"text\": \"Distribution of sale items\"}, \"treemapcolorway\": [\"pink\", \"lightgray\"]},                        {\"responsive\": true}                    ).then(function(){\n",
       "                            \n",
       "var gd = document.getElementById('1ea3213a-7bc2-4e6c-a672-f4f33756e8f1');\n",
       "var x = new MutationObserver(function (mutations, observer) {{\n",
       "        var display = window.getComputedStyle(gd).display;\n",
       "        if (!display || display === 'none') {{\n",
       "            console.log([gd, 'removed!']);\n",
       "            Plotly.purge(gd);\n",
       "            observer.disconnect();\n",
       "        }}\n",
       "}});\n",
       "\n",
       "// Listen for the removal of the full notebook cells\n",
       "var notebookContainer = gd.closest('#notebook-container');\n",
       "if (notebookContainer) {{\n",
       "    x.observe(notebookContainer, {childList: true});\n",
       "}}\n",
       "\n",
       "// Listen for the clearing of the current output cell\n",
       "var outputEl = gd.closest('.output');\n",
       "if (outputEl) {{\n",
       "    x.observe(outputEl, {childList: true});\n",
       "}}\n",
       "\n",
       "                        })                };                });            </script>        </div>"
      ]
     },
     "metadata": {},
     "output_type": "display_data"
    }
   ],
   "source": [
    "gp = sales.groupby(['region_id','store_id','category_id','subcat_id'],as_index=False)\n",
    "gp = gp['item_id'].count().dropna()\n",
    "gp['FairStorage'] = 'FairStorage'\n",
    "\n",
    "fig = px.treemap(gp, path=['FairStorage', 'region_id', 'store_id', 'category_id', 'subcat_id'], values='item_id',\n",
    "                  color='item_id',\n",
    "                  color_continuous_scale = 'RdBu',\n",
    "                  title='Distribution of sale items')\n",
    "            \n",
    "fig.update_layout(treemapcolorway = [\"pink\", \"lightgray\"])\n",
    "fig.show()"
   ]
  },
  {
   "cell_type": "markdown",
   "id": "refined-blackberry",
   "metadata": {
    "papermill": {
     "duration": 0.015044,
     "end_time": "2021-05-03T13:32:58.789533",
     "exception": false,
     "start_time": "2021-05-03T13:32:58.774489",
     "status": "completed"
    },
    "tags": []
   },
   "source": [
    "As we can see, our data contains information on 3 regions (East, Central and West), 10 stores (East_1, East_2, East_3, East_4, Central_1, Central_2, Central_3, West_1, West_2, West_3), 3 categories (Food, Cleaning, and Beaty), which are then further split into 7 subcategories. \n",
    "Now, we aggregate our data to visualise it by category, subcategory, and store"
   ]
  },
  {
   "cell_type": "code",
   "execution_count": 9,
   "id": "adjusted-jesus",
   "metadata": {
    "execution": {
     "iopub.execute_input": "2021-05-03T13:32:59.013292Z",
     "iopub.status.busy": "2021-05-03T13:32:59.012623Z",
     "iopub.status.idle": "2021-05-03T13:32:59.579740Z",
     "shell.execute_reply": "2021-05-03T13:32:59.580229Z"
    },
    "papermill": {
     "duration": 0.776109,
     "end_time": "2021-05-03T13:32:59.580415",
     "exception": false,
     "start_time": "2021-05-03T13:32:58.804306",
     "status": "completed"
    },
    "tags": []
   },
   "outputs": [],
   "source": [
    "df = agg_and_date (sales, calendar, [\"category_id\"], \"mean\")"
   ]
  },
  {
   "cell_type": "code",
   "execution_count": 10,
   "id": "psychological-maldives",
   "metadata": {
    "execution": {
     "iopub.execute_input": "2021-05-03T13:32:59.613321Z",
     "iopub.status.busy": "2021-05-03T13:32:59.612699Z",
     "iopub.status.idle": "2021-05-03T13:32:59.629379Z",
     "shell.execute_reply": "2021-05-03T13:32:59.629822Z"
    },
    "papermill": {
     "duration": 0.0344,
     "end_time": "2021-05-03T13:32:59.629987",
     "exception": false,
     "start_time": "2021-05-03T13:32:59.595587",
     "status": "completed"
    },
    "tags": []
   },
   "outputs": [
    {
     "data": {
      "text/html": [
       "<div>\n",
       "<style scoped>\n",
       "    .dataframe tbody tr th:only-of-type {\n",
       "        vertical-align: middle;\n",
       "    }\n",
       "\n",
       "    .dataframe tbody tr th {\n",
       "        vertical-align: top;\n",
       "    }\n",
       "\n",
       "    .dataframe thead th {\n",
       "        text-align: right;\n",
       "    }\n",
       "</style>\n",
       "<table border=\"1\" class=\"dataframe\">\n",
       "  <thead>\n",
       "    <tr style=\"text-align: right;\">\n",
       "      <th></th>\n",
       "      <th>Beauty</th>\n",
       "      <th>Cleaning</th>\n",
       "      <th>Food</th>\n",
       "    </tr>\n",
       "    <tr>\n",
       "      <th>date</th>\n",
       "      <th></th>\n",
       "      <th></th>\n",
       "      <th></th>\n",
       "    </tr>\n",
       "  </thead>\n",
       "  <tbody>\n",
       "    <tr>\n",
       "      <th>2011-01-29</th>\n",
       "      <td>0.666195</td>\n",
       "      <td>0.543362</td>\n",
       "      <td>1.612944</td>\n",
       "    </tr>\n",
       "    <tr>\n",
       "      <th>2011-01-30</th>\n",
       "      <td>0.594159</td>\n",
       "      <td>0.538109</td>\n",
       "      <td>1.583716</td>\n",
       "    </tr>\n",
       "    <tr>\n",
       "      <th>2011-01-31</th>\n",
       "      <td>0.474690</td>\n",
       "      <td>0.375072</td>\n",
       "      <td>1.195129</td>\n",
       "    </tr>\n",
       "    <tr>\n",
       "      <th>2011-02-01</th>\n",
       "      <td>0.472389</td>\n",
       "      <td>0.369150</td>\n",
       "      <td>1.313709</td>\n",
       "    </tr>\n",
       "    <tr>\n",
       "      <th>2011-02-02</th>\n",
       "      <td>0.321062</td>\n",
       "      <td>0.260649</td>\n",
       "      <td>1.016214</td>\n",
       "    </tr>\n",
       "  </tbody>\n",
       "</table>\n",
       "</div>"
      ],
      "text/plain": [
       "              Beauty  Cleaning      Food\n",
       "date                                    \n",
       "2011-01-29  0.666195  0.543362  1.612944\n",
       "2011-01-30  0.594159  0.538109  1.583716\n",
       "2011-01-31  0.474690  0.375072  1.195129\n",
       "2011-02-01  0.472389  0.369150  1.313709\n",
       "2011-02-02  0.321062  0.260649  1.016214"
      ]
     },
     "execution_count": 10,
     "metadata": {},
     "output_type": "execute_result"
    }
   ],
   "source": [
    "df.head()"
   ]
  },
  {
   "cell_type": "code",
   "execution_count": 11,
   "id": "monetary-gospel",
   "metadata": {
    "execution": {
     "iopub.execute_input": "2021-05-03T13:32:59.665544Z",
     "iopub.status.busy": "2021-05-03T13:32:59.664586Z",
     "iopub.status.idle": "2021-05-03T13:33:00.076850Z",
     "shell.execute_reply": "2021-05-03T13:33:00.077260Z"
    },
    "papermill": {
     "duration": 0.431443,
     "end_time": "2021-05-03T13:33:00.077434",
     "exception": false,
     "start_time": "2021-05-03T13:32:59.645991",
     "status": "completed"
    },
    "tags": []
   },
   "outputs": [
    {
     "data": {
      "text/plain": [
       "(0.0, 3.0)"
      ]
     },
     "execution_count": 11,
     "metadata": {},
     "output_type": "execute_result"
    },
    {
     "data": {
      "image/png": "[encoded data removed]",
      "text/plain": [
       "<Figure size 720x360 with 1 Axes>"
      ]
     },
     "metadata": {},
     "output_type": "display_data"
    }
   ],
   "source": [
    "df.plot(kind = 'kde')\n",
    "plt.xlabel('Mean sales per day, thousands')\n",
    "plt.ylabel('Instances, hundreds')\n",
    "plt.title('Mean sales per day per category across stores')\n",
    "plt.xlim(0,3)"
   ]
  },
  {
   "cell_type": "markdown",
   "id": "european-concert",
   "metadata": {
    "papermill": {
     "duration": 0.017713,
     "end_time": "2021-05-03T13:33:00.112923",
     "exception": false,
     "start_time": "2021-05-03T13:33:00.095210",
     "status": "completed"
    },
    "tags": []
   },
   "source": [
    "Clearly, Food items are most bought. Now, we want to observe whether the same trends is present forsubcategories as well."
   ]
  },
  {
   "cell_type": "code",
   "execution_count": 12,
   "id": "fifteen-currency",
   "metadata": {
    "execution": {
     "iopub.execute_input": "2021-05-03T13:33:00.150997Z",
     "iopub.status.busy": "2021-05-03T13:33:00.150420Z",
     "iopub.status.idle": "2021-05-03T13:33:00.844106Z",
     "shell.execute_reply": "2021-05-03T13:33:00.844939Z"
    },
    "papermill": {
     "duration": 0.714727,
     "end_time": "2021-05-03T13:33:00.845202",
     "exception": false,
     "start_time": "2021-05-03T13:33:00.130475",
     "status": "completed"
    },
    "tags": []
   },
   "outputs": [],
   "source": [
    "df = agg_and_date (sales, calendar, [\"subcat_id\"], \"mean\")"
   ]
  },
  {
   "cell_type": "code",
   "execution_count": 13,
   "id": "worldwide-delhi",
   "metadata": {
    "execution": {
     "iopub.execute_input": "2021-05-03T13:33:00.904531Z",
     "iopub.status.busy": "2021-05-03T13:33:00.903479Z",
     "iopub.status.idle": "2021-05-03T13:33:01.506018Z",
     "shell.execute_reply": "2021-05-03T13:33:01.506652Z"
    },
    "papermill": {
     "duration": 0.636613,
     "end_time": "2021-05-03T13:33:01.506829",
     "exception": false,
     "start_time": "2021-05-03T13:33:00.870216",
     "status": "completed"
    },
    "tags": []
   },
   "outputs": [
    {
     "data": {
      "text/plain": [
       "(0.0, 3.5)"
      ]
     },
     "execution_count": 13,
     "metadata": {},
     "output_type": "execute_result"
    },
    {
     "data": {
      "image/png": "[encoded data removed]",
      "text/plain": [
       "<Figure size 720x360 with 1 Axes>"
      ]
     },
     "metadata": {},
     "output_type": "display_data"
    }
   ],
   "source": [
    "df.plot(kind = 'kde')\n",
    "plt.xlabel('Mean sales per day, thousands')\n",
    "plt.ylabel('Instances, hundreds')\n",
    "plt.title('Mean sales per day per category across stores')\n",
    "plt.xlim(0,3.5)"
   ]
  },
  {
   "cell_type": "markdown",
   "id": "inner-machine",
   "metadata": {
    "papermill": {
     "duration": 0.019714,
     "end_time": "2021-05-03T13:33:01.546849",
     "exception": false,
     "start_time": "2021-05-03T13:33:01.527135",
     "status": "completed"
    },
    "tags": []
   },
   "source": [
    "The same is true for subcategories, which appeare distributed quite closely to the aggregated distribution by category. The least bought items per day appear to be items in the 'Beauty_2\" subcategory, while Food_3' items appear to be the most bought across all subcategory. It is possible that 'Food_3' items are fresh food items, whcih must eb bought very frequently and which are also consumed in large volumes. \n",
    "\n",
    "Along with the EDA performed for our Statistical Forecasting Exercise, we are satified with the knowledge garnered about the dataset and proceed to modelling."
   ]
  }
 ],
 "metadata": {
  "kernelspec": {
   "display_name": "Python 3",
   "language": "python",
   "name": "python3"
  },
  "language_info": {
   "codemirror_mode": {
    "name": "ipython",
    "version": 3
   },
   "file_extension": ".py",
   "mimetype": "text/x-python",
   "name": "python",
   "nbconvert_exporter": "python",
   "pygments_lexer": "ipython3",
   "version": "3.7.10"
  },
  "papermill": {
   "default_parameters": {},
   "duration": 26.559387,
   "end_time": "2021-05-03T13:33:02.376220",
   "environment_variables": {},
   "exception": null,
   "input_path": "__notebook__.ipynb",
   "output_path": "__notebook__.ipynb",
   "parameters": {},
   "start_time": "2021-05-03T13:32:35.816833",
   "version": "2.3.3"
  }
 },
 "nbformat": 4,
 "nbformat_minor": 5
}
